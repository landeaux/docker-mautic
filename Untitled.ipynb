{
 "cells": [
  {
   "cell_type": "code",
   "execution_count": 4,
   "id": "12a3aef2",
   "metadata": {},
   "outputs": [
    {
     "name": "stdout",
     "output_type": "stream",
     "text": [
      "http://localhost:8880\n",
      "api\n",
      "3dmvwe6ilqyo4wcogcccsowgokcwgogwskwkcow00gskkogos0\n",
      "464juqt2u9k44k04ksk840wcwww4480ck0wgks440s4ow00sc0\n"
     ]
    }
   ],
   "source": [
    "import os\n",
    "from rauth import OAuth1Service\n",
    "\n",
    "SERVER_URL = \"http://localhost:8880\"\n",
    "MAUTIC_API_NAME = os.getenv(\"MAUTIC_API_NAME\")\n",
    "MAUTIC_API_CONSUMER_KEY = os.getenv(\"MAUTIC_API_CONSUMER_KEY\")\n",
    "MAUTIC_API_CONSUMER_SECRET = os.getenv(\"MAUTIC_API_CONSUMER_SECRET\")\n",
    "\n",
    "mautic = OAuth1Service(\n",
    "    name=MAUTIC_API_NAME,\n",
    "    consumer_key=MAUTIC_API_CONSUMER_KEY,\n",
    "    consumer_secret=MAUTIC_API_CONSUMER_SECRET,\n",
    "    request_token_url=f\"{SERVER_URL}/oauth/v1/request_token\",\n",
    "    access_token_url=f\"{SERVER_URL}/oauth/v1/access_token\",\n",
    "    authorize_url=f\"{SERVER_URL}/oauth/v1/authorize\",\n",
    "    base_url=f\"{SERVER_URL}/api\",\n",
    ")"
   ]
  },
  {
   "cell_type": "code",
   "execution_count": 3,
   "id": "01799ac4",
   "metadata": {},
   "outputs": [
    {
     "ename": "KeyError",
     "evalue": "'Decoder failed to handle oauth_token with data as returned by provider. A different decoder may be needed. Provider returned: b\\'{\"errors\":[{\"message\":\"Looks like I encountered an error (error #401). If I do it again, please report me to the system administrator!\",\"code\":401,\"type\":null}],\"error\":{\"message\":\"Looks like I encountered an error (error #401). If I do it again, please report me to the system administrator! (`error` is deprecated as of 2.6.0 and will be removed in 3.0. Use the `errors` array instead.)\",\"code\":401}}\\''",
     "output_type": "error",
     "traceback": [
      "\u001b[0;31m---------------------------------------------------------------------------\u001b[0m",
      "\u001b[0;31mKeyError\u001b[0m                                  Traceback (most recent call last)",
      "\u001b[0;32m~/.pyenv/versions/3.9.6/envs/docker-mautic/lib/python3.9/site-packages/rauth/service.py\u001b[0m in \u001b[0;36mprocess_token_request\u001b[0;34m(r, decoder, *args)\u001b[0m\n\u001b[1;32m     20\u001b[0m         \u001b[0mdata\u001b[0m \u001b[0;34m=\u001b[0m \u001b[0mdecoder\u001b[0m\u001b[0;34m(\u001b[0m\u001b[0mr\u001b[0m\u001b[0;34m.\u001b[0m\u001b[0mcontent\u001b[0m\u001b[0;34m)\u001b[0m\u001b[0;34m\u001b[0m\u001b[0;34m\u001b[0m\u001b[0m\n\u001b[0;32m---> 21\u001b[0;31m         \u001b[0;32mreturn\u001b[0m \u001b[0mtuple\u001b[0m\u001b[0;34m(\u001b[0m\u001b[0mdata\u001b[0m\u001b[0;34m[\u001b[0m\u001b[0mkey\u001b[0m\u001b[0;34m]\u001b[0m \u001b[0;32mfor\u001b[0m \u001b[0mkey\u001b[0m \u001b[0;32min\u001b[0m \u001b[0margs\u001b[0m\u001b[0;34m)\u001b[0m\u001b[0;34m\u001b[0m\u001b[0;34m\u001b[0m\u001b[0m\n\u001b[0m\u001b[1;32m     22\u001b[0m     \u001b[0;32mexcept\u001b[0m \u001b[0mKeyError\u001b[0m \u001b[0;32mas\u001b[0m \u001b[0me\u001b[0m\u001b[0;34m:\u001b[0m  \u001b[0;31m# pragma: no cover\u001b[0m\u001b[0;34m\u001b[0m\u001b[0;34m\u001b[0m\u001b[0m\n",
      "\u001b[0;32m~/.pyenv/versions/3.9.6/envs/docker-mautic/lib/python3.9/site-packages/rauth/service.py\u001b[0m in \u001b[0;36m<genexpr>\u001b[0;34m(.0)\u001b[0m\n\u001b[1;32m     20\u001b[0m         \u001b[0mdata\u001b[0m \u001b[0;34m=\u001b[0m \u001b[0mdecoder\u001b[0m\u001b[0;34m(\u001b[0m\u001b[0mr\u001b[0m\u001b[0;34m.\u001b[0m\u001b[0mcontent\u001b[0m\u001b[0;34m)\u001b[0m\u001b[0;34m\u001b[0m\u001b[0;34m\u001b[0m\u001b[0m\n\u001b[0;32m---> 21\u001b[0;31m         \u001b[0;32mreturn\u001b[0m \u001b[0mtuple\u001b[0m\u001b[0;34m(\u001b[0m\u001b[0mdata\u001b[0m\u001b[0;34m[\u001b[0m\u001b[0mkey\u001b[0m\u001b[0;34m]\u001b[0m \u001b[0;32mfor\u001b[0m \u001b[0mkey\u001b[0m \u001b[0;32min\u001b[0m \u001b[0margs\u001b[0m\u001b[0;34m)\u001b[0m\u001b[0;34m\u001b[0m\u001b[0;34m\u001b[0m\u001b[0m\n\u001b[0m\u001b[1;32m     22\u001b[0m     \u001b[0;32mexcept\u001b[0m \u001b[0mKeyError\u001b[0m \u001b[0;32mas\u001b[0m \u001b[0me\u001b[0m\u001b[0;34m:\u001b[0m  \u001b[0;31m# pragma: no cover\u001b[0m\u001b[0;34m\u001b[0m\u001b[0;34m\u001b[0m\u001b[0m\n",
      "\u001b[0;31mKeyError\u001b[0m: 'oauth_token'",
      "\nDuring handling of the above exception, another exception occurred:\n",
      "\u001b[0;31mKeyError\u001b[0m                                  Traceback (most recent call last)",
      "\u001b[0;32m/tmp/ipykernel_28715/3194468447.py\u001b[0m in \u001b[0;36m<module>\u001b[0;34m\u001b[0m\n\u001b[0;32m----> 1\u001b[0;31m \u001b[0mrequest_token\u001b[0m\u001b[0;34m,\u001b[0m \u001b[0mrequest_token_secret\u001b[0m \u001b[0;34m=\u001b[0m \u001b[0mmautic\u001b[0m\u001b[0;34m.\u001b[0m\u001b[0mget_request_token\u001b[0m\u001b[0;34m(\u001b[0m\u001b[0;34m)\u001b[0m\u001b[0;34m\u001b[0m\u001b[0;34m\u001b[0m\u001b[0m\n\u001b[0m",
      "\u001b[0;32m~/.pyenv/versions/3.9.6/envs/docker-mautic/lib/python3.9/site-packages/rauth/service.py\u001b[0m in \u001b[0;36mget_request_token\u001b[0;34m(self, method, decoder, key_token, key_token_secret, **kwargs)\u001b[0m\n\u001b[1;32m    242\u001b[0m         \u001b[0mr\u001b[0m \u001b[0;34m=\u001b[0m \u001b[0mself\u001b[0m\u001b[0;34m.\u001b[0m\u001b[0mget_raw_request_token\u001b[0m\u001b[0;34m(\u001b[0m\u001b[0mmethod\u001b[0m\u001b[0;34m=\u001b[0m\u001b[0mmethod\u001b[0m\u001b[0;34m,\u001b[0m \u001b[0;34m**\u001b[0m\u001b[0mkwargs\u001b[0m\u001b[0;34m)\u001b[0m\u001b[0;34m\u001b[0m\u001b[0;34m\u001b[0m\u001b[0m\n\u001b[1;32m    243\u001b[0m         \u001b[0mrequest_token\u001b[0m\u001b[0;34m,\u001b[0m \u001b[0mrequest_token_secret\u001b[0m \u001b[0;34m=\u001b[0m\u001b[0;31m \u001b[0m\u001b[0;31m\\\u001b[0m\u001b[0;34m\u001b[0m\u001b[0;34m\u001b[0m\u001b[0m\n\u001b[0;32m--> 244\u001b[0;31m             \u001b[0mprocess_token_request\u001b[0m\u001b[0;34m(\u001b[0m\u001b[0mr\u001b[0m\u001b[0;34m,\u001b[0m \u001b[0mdecoder\u001b[0m\u001b[0;34m,\u001b[0m \u001b[0mkey_token\u001b[0m\u001b[0;34m,\u001b[0m \u001b[0mkey_token_secret\u001b[0m\u001b[0;34m)\u001b[0m\u001b[0;34m\u001b[0m\u001b[0;34m\u001b[0m\u001b[0m\n\u001b[0m\u001b[1;32m    245\u001b[0m         \u001b[0;32mreturn\u001b[0m \u001b[0mrequest_token\u001b[0m\u001b[0;34m,\u001b[0m \u001b[0mrequest_token_secret\u001b[0m\u001b[0;34m\u001b[0m\u001b[0;34m\u001b[0m\u001b[0m\n\u001b[1;32m    246\u001b[0m \u001b[0;34m\u001b[0m\u001b[0m\n",
      "\u001b[0;32m~/.pyenv/versions/3.9.6/envs/docker-mautic/lib/python3.9/site-packages/rauth/service.py\u001b[0m in \u001b[0;36mprocess_token_request\u001b[0;34m(r, decoder, *args)\u001b[0m\n\u001b[1;32m     22\u001b[0m     \u001b[0;32mexcept\u001b[0m \u001b[0mKeyError\u001b[0m \u001b[0;32mas\u001b[0m \u001b[0me\u001b[0m\u001b[0;34m:\u001b[0m  \u001b[0;31m# pragma: no cover\u001b[0m\u001b[0;34m\u001b[0m\u001b[0;34m\u001b[0m\u001b[0m\n\u001b[1;32m     23\u001b[0m         \u001b[0mbad_key\u001b[0m \u001b[0;34m=\u001b[0m \u001b[0me\u001b[0m\u001b[0;34m.\u001b[0m\u001b[0margs\u001b[0m\u001b[0;34m[\u001b[0m\u001b[0;36m0\u001b[0m\u001b[0;34m]\u001b[0m\u001b[0;34m\u001b[0m\u001b[0;34m\u001b[0m\u001b[0m\n\u001b[0;32m---> 24\u001b[0;31m         \u001b[0;32mraise\u001b[0m \u001b[0mKeyError\u001b[0m\u001b[0;34m(\u001b[0m\u001b[0mPROCESS_TOKEN_ERROR\u001b[0m\u001b[0;34m.\u001b[0m\u001b[0mformat\u001b[0m\u001b[0;34m(\u001b[0m\u001b[0mkey\u001b[0m\u001b[0;34m=\u001b[0m\u001b[0mbad_key\u001b[0m\u001b[0;34m,\u001b[0m \u001b[0mraw\u001b[0m\u001b[0;34m=\u001b[0m\u001b[0mr\u001b[0m\u001b[0;34m.\u001b[0m\u001b[0mcontent\u001b[0m\u001b[0;34m)\u001b[0m\u001b[0;34m)\u001b[0m\u001b[0;34m\u001b[0m\u001b[0;34m\u001b[0m\u001b[0m\n\u001b[0m\u001b[1;32m     25\u001b[0m \u001b[0;34m\u001b[0m\u001b[0m\n\u001b[1;32m     26\u001b[0m \u001b[0;34m\u001b[0m\u001b[0m\n",
      "\u001b[0;31mKeyError\u001b[0m: 'Decoder failed to handle oauth_token with data as returned by provider. A different decoder may be needed. Provider returned: b\\'{\"errors\":[{\"message\":\"Looks like I encountered an error (error #401). If I do it again, please report me to the system administrator!\",\"code\":401,\"type\":null}],\"error\":{\"message\":\"Looks like I encountered an error (error #401). If I do it again, please report me to the system administrator! (`error` is deprecated as of 2.6.0 and will be removed in 3.0. Use the `errors` array instead.)\",\"code\":401}}\\''"
     ]
    }
   ],
   "source": [
    "request_token, request_token_secret = mautic.get_request_token()"
   ]
  },
  {
   "cell_type": "code",
   "execution_count": 6,
   "id": "67135e29",
   "metadata": {},
   "outputs": [
    {
     "data": {
      "text/plain": [
       "'67nqeux8x8g0k44w8gwowwwkswccwgo8g80gs84wg0c0gcko4s'"
      ]
     },
     "execution_count": 6,
     "metadata": {},
     "output_type": "execute_result"
    }
   ],
   "source": [
    "request_token"
   ]
  },
  {
   "cell_type": "code",
   "execution_count": 7,
   "id": "5a307a18",
   "metadata": {},
   "outputs": [
    {
     "data": {
      "text/plain": [
       "'5m26mbhjcdc0c088sowcgw808kk8cc4g8cw08gk8wg8kk8k8wk'"
      ]
     },
     "execution_count": 7,
     "metadata": {},
     "output_type": "execute_result"
    }
   ],
   "source": [
    "request_token_secret"
   ]
  },
  {
   "cell_type": "code",
   "execution_count": null,
   "id": "c45689da",
   "metadata": {},
   "outputs": [],
   "source": [
    "authorize_url = mautic.get_authorize_url(request_token)\n",
    "\n",
    "print('Visit this URL in your browser: ' + authorize_url)\n",
    "pin = input('Enter PIN from browser: ')  # `input` if using Python 3!"
   ]
  },
  {
   "cell_type": "code",
   "execution_count": null,
   "id": "49fccead",
   "metadata": {},
   "outputs": [],
   "source": [
    "pin"
   ]
  },
  {
   "cell_type": "code",
   "execution_count": null,
   "id": "ea4a302e",
   "metadata": {},
   "outputs": [],
   "source": [
    "session = mautic.get_auth_session(\n",
    "    request_token,\n",
    "    request_token_secret,\n",
    "    method='POST',\n",
    "    data={'oauth_verifier': pin}\n",
    ")"
   ]
  },
  {
   "cell_type": "code",
   "execution_count": null,
   "id": "5b62edce",
   "metadata": {},
   "outputs": [],
   "source": [
    "data = {\n",
    "    \"email\": \"apiemail1@email.com\",\n",
    "    \"firstname\": \"API\",\n",
    "    \"lastname\": \"Update\",\n",
    "    \"city\": \"Houston\",\n",
    "    \"state\": \"Texas\",\n",
    "    \"country\": \"United States\",\n",
    "    \"owner\": 1,\n",
    "}\n",
    "res = session.post(\"/api/contacts/new\", data=data)\n",
    "res.json()"
   ]
  },
  {
   "cell_type": "code",
   "execution_count": null,
   "id": "4d03c9fc",
   "metadata": {},
   "outputs": [],
   "source": [
    "res = session.get(\"/api/contacts/2\")\n",
    "res.json()"
   ]
  },
  {
   "cell_type": "code",
   "execution_count": null,
   "id": "b1c20b0e",
   "metadata": {},
   "outputs": [],
   "source": []
  },
  {
   "cell_type": "code",
   "execution_count": null,
   "id": "baf13f9b",
   "metadata": {},
   "outputs": [],
   "source": []
  }
 ],
 "metadata": {
  "kernelspec": {
   "display_name": "Python 3 (ipykernel)",
   "language": "python",
   "name": "python3"
  },
  "language_info": {
   "codemirror_mode": {
    "name": "ipython",
    "version": 3
   },
   "file_extension": ".py",
   "mimetype": "text/x-python",
   "name": "python",
   "nbconvert_exporter": "python",
   "pygments_lexer": "ipython3",
   "version": "3.9.6"
  }
 },
 "nbformat": 4,
 "nbformat_minor": 5
}
