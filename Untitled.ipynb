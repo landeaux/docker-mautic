{
 "cells": [
  {
   "cell_type": "code",
   "execution_count": 9,
   "id": "1c2fcb95",
   "metadata": {},
   "outputs": [],
   "source": [
    "import requests"
   ]
  },
  {
   "cell_type": "code",
   "execution_count": 16,
   "id": "039edb74",
   "metadata": {},
   "outputs": [],
   "source": [
    "BASE_URL = \"http://localhost:8880/api\""
   ]
  },
  {
   "cell_type": "code",
   "execution_count": 19,
   "id": "c5da3507",
   "metadata": {},
   "outputs": [],
   "source": [
    "def get_request(endpoint: str) -> dict:\n",
    "    url = f\"{BASE_URL}/{endpoint}\"\n",
    "    res = requests.get(url)\n",
    "    return res.json()"
   ]
  },
  {
   "cell_type": "code",
   "execution_count": 20,
   "id": "79d57c78",
   "metadata": {},
   "outputs": [
    {
     "data": {
      "text/plain": [
       "{'errors': [{'message': 'API authorization denied.',\n",
       "   'code': 401,\n",
       "   'type': 'access_denied'}]}"
      ]
     },
     "execution_count": 20,
     "metadata": {},
     "output_type": "execute_result"
    }
   ],
   "source": [
    "get_request(\"assets\")"
   ]
  },
  {
   "cell_type": "code",
   "execution_count": null,
   "id": "12a3aef2",
   "metadata": {},
   "outputs": [],
   "source": []
  }
 ],
 "metadata": {
  "kernelspec": {
   "display_name": "Python 3 (ipykernel)",
   "language": "python",
   "name": "python3"
  },
  "language_info": {
   "codemirror_mode": {
    "name": "ipython",
    "version": 3
   },
   "file_extension": ".py",
   "mimetype": "text/x-python",
   "name": "python",
   "nbconvert_exporter": "python",
   "pygments_lexer": "ipython3",
   "version": "3.9.2"
  }
 },
 "nbformat": 4,
 "nbformat_minor": 5
}
